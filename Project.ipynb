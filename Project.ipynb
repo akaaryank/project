{
  "nbformat": 4,
  "nbformat_minor": 0,
  "metadata": {
    "colab": {
      "provenance": [],
      "authorship_tag": "ABX9TyMVgsvdDPN3VHmKK3kg3d1O"
    },
    "kernelspec": {
      "name": "python3",
      "display_name": "Python 3"
    },
    "language_info": {
      "name": "python"
    }
  },
  "cells": [
    {
      "cell_type": "code",
      "execution_count": 1,
      "metadata": {
        "colab": {
          "base_uri": "https://localhost:8080/"
        },
        "id": "RaL33uFhV3D4",
        "outputId": "6237f2d0-8d97-4070-cdc0-90acbbb048c3"
      },
      "outputs": [
        {
          "output_type": "stream",
          "name": "stdout",
          "text": [
            "Requirement already satisfied: nltk in /usr/local/lib/python3.10/dist-packages (3.8.1)\n",
            "Requirement already satisfied: scikit-learn in /usr/local/lib/python3.10/dist-packages (1.5.2)\n",
            "Requirement already satisfied: pandas in /usr/local/lib/python3.10/dist-packages (2.2.2)\n",
            "Requirement already satisfied: click in /usr/local/lib/python3.10/dist-packages (from nltk) (8.1.7)\n",
            "Requirement already satisfied: joblib in /usr/local/lib/python3.10/dist-packages (from nltk) (1.4.2)\n",
            "Requirement already satisfied: regex>=2021.8.3 in /usr/local/lib/python3.10/dist-packages (from nltk) (2024.9.11)\n",
            "Requirement already satisfied: tqdm in /usr/local/lib/python3.10/dist-packages (from nltk) (4.66.5)\n",
            "Requirement already satisfied: numpy>=1.19.5 in /usr/local/lib/python3.10/dist-packages (from scikit-learn) (1.26.4)\n",
            "Requirement already satisfied: scipy>=1.6.0 in /usr/local/lib/python3.10/dist-packages (from scikit-learn) (1.13.1)\n",
            "Requirement already satisfied: threadpoolctl>=3.1.0 in /usr/local/lib/python3.10/dist-packages (from scikit-learn) (3.5.0)\n",
            "Requirement already satisfied: python-dateutil>=2.8.2 in /usr/local/lib/python3.10/dist-packages (from pandas) (2.8.2)\n",
            "Requirement already satisfied: pytz>=2020.1 in /usr/local/lib/python3.10/dist-packages (from pandas) (2024.2)\n",
            "Requirement already satisfied: tzdata>=2022.7 in /usr/local/lib/python3.10/dist-packages (from pandas) (2024.2)\n",
            "Requirement already satisfied: six>=1.5 in /usr/local/lib/python3.10/dist-packages (from python-dateutil>=2.8.2->pandas) (1.16.0)\n"
          ]
        }
      ],
      "source": [
        "pip install nltk scikit-learn pandas"
      ]
    },
    {
      "cell_type": "code",
      "source": [
        "import nltk\n",
        "import json\n",
        "import random\n",
        "import numpy as np\n",
        "import pandas as pd\n",
        "from sklearn.feature_extraction.text import TfidfVectorizer\n",
        "from sklearn.metrics.pairwise import cosine_similarity\n",
        "from sklearn.model_selection import train_test_split\n",
        "from sklearn.naive_bayes import MultinomialNB\n",
        "\n",
        "# Download NLTK resources\n",
        "nltk.download('punkt')\n",
        "nltk.download('wordnet')\n",
        "\n",
        "# Sample dataset for chatbot responses\n",
        "data = [\n",
        "    {\"intent\": \"greeting\", \"patterns\": [\"Hi\", \"Hello\", \"How are you?\", \"Hey\"], \"responses\": [\"Hello!\", \"Hi there!\", \"How can I assist you?\"]},\n",
        "    {\"intent\": \"goodbye\", \"patterns\": [\"Bye\", \"See you later\", \"Goodbye\"], \"responses\": [\"Goodbye!\", \"Take care!\", \"Have a great day!\"]},\n",
        "    {\"intent\": \"thanks\", \"patterns\": [\"Thanks\", \"Thank you\", \"I appreciate it\"], \"responses\": [\"You're welcome!\", \"Happy to help!\", \"Anytime!\"]},\n",
        "    {\"intent\": \"age\", \"patterns\": [\"How old are you?\", \"What’s your age?\", \"Your age?\"], \"responses\": [\"I’m timeless!\", \"I'm as old as the internet!\"]},\n",
        "    # Add more intents here\n",
        "]\n",
        "\n",
        "# Preprocessing functions\n",
        "def tokenize_and_stem(text):\n",
        "    tokens = nltk.word_tokenize(text.lower())\n",
        "    stemmer = nltk.WordNetLemmatizer()\n",
        "    return [stemmer.lemmatize(token) for token in tokens]\n",
        "\n",
        "# Data processing\n",
        "all_patterns = []\n",
        "all_labels = []\n",
        "for intent in data:\n",
        "    for pattern in intent[\"patterns\"]:\n",
        "        all_patterns.append(pattern)\n",
        "        all_labels.append(intent[\"intent\"])\n",
        "\n",
        "# Vectorize text data\n",
        "vectorizer = TfidfVectorizer(tokenizer=tokenize_and_stem)\n",
        "X = vectorizer.fit_transform(all_patterns)\n",
        "y = np.array(all_labels)\n",
        "\n",
        "# Train a Naive Bayes classifier\n",
        "X_train, X_test, y_train, y_test = train_test_split(X, y, test_size=0.2, random_state=42)\n",
        "model = MultinomialNB()\n",
        "model.fit(X_train, y_train)\n",
        "\n",
        "# Generate responses based on intent\n",
        "def get_response(intent):\n",
        "    for intent_data in data:\n",
        "        if intent_data[\"intent\"] == intent:\n",
        "            return random.choice(intent_data[\"responses\"])\n",
        "    return \"I'm not sure how to respond to that.\"\n",
        "\n",
        "# Chatbot interaction function\n",
        "def chatbot_response(user_input):\n",
        "    user_input_vector = vectorizer.transform([user_input])\n",
        "    intent = model.predict(user_input_vector)[0]\n",
        "    response = get_response(intent)\n",
        "    return response\n",
        "\n",
        "# Main loop\n",
        "print(\"Chatbot: Hello! Type 'exit' to end the conversation.\")\n",
        "while True:\n",
        "    user_input = input(\"You: \")\n",
        "    if user_input.lower() == 'exit':\n",
        "        print(\"Chatbot: Goodbye!\")\n",
        "        break\n",
        "    response = chatbot_response(user_input)\n",
        "    print(f\"Chatbot: {response}\")"
      ],
      "metadata": {
        "id": "SWL5S8H6WXGg"
      },
      "execution_count": null,
      "outputs": []
    }
  ]
}